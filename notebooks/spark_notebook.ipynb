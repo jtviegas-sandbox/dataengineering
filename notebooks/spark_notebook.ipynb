{
 "cells": [
  {
   "cell_type": "code",
   "execution_count": 4,
   "metadata": {
    "vscode": {
     "languageId": "python"
    }
   },
   "outputs": [
    {
     "name": "stdout",
     "output_type": "stream",
     "text": [
      "Welcome to the Glue Interactive Sessions Kernel\n",
      "For more information on available magic commands, please type %help in any new cell.\n",
      "\n",
      "Please view our Getting Started page to access the most up-to-date information on the Interactive Sessions kernel: https://docs.aws.amazon.com/glue/latest/dg/interactive-sessions.html\n",
      "Current iam_role is None\n",
      "iam_role has been set to arn:aws:iam::041651352119:role/tgedr_it_role_for_glue_service.\n"
     ]
    }
   ],
   "source": [
    "%iam_role arn:aws:iam::041651352119:role/tgedr_it_role_for_glue_service\""
   ]
  },
  {
   "cell_type": "code",
   "execution_count": 1,
   "metadata": {
    "vscode": {
     "languageId": "python"
    }
   },
   "outputs": [
    {
     "name": "stdout",
     "output_type": "stream",
     "text": [
      "Trying to create a Glue session for the kernel.\n",
      "Session Type: etl\n",
      "Worker Type: G.1X\n",
      "Number of Workers: 5\n",
      "Session ID: 0cdb4901-3942-46ff-b5a7-3eefc949551b\n",
      "Applying the following default arguments:\n",
      "--glue_kernel_version 1.0.2\n",
      "--enable-glue-datacatalog true\n",
      "Waiting for session 0cdb4901-3942-46ff-b5a7-3eefc949551b to get into ready status...\n",
      "Session 0cdb4901-3942-46ff-b5a7-3eefc949551b has been created.\n",
      "<pyspark.sql.session.SparkSession object at 0x7fafcdba03d0>\n"
     ]
    }
   ],
   "source": [
    "spark"
   ]
  }
 ],
 "metadata": {
  "kernelspec": {
   "display_name": "Glue PySpark",
   "language": "python",
   "name": "glue_pyspark"
  },
  "language_info": {
   "codemirror_mode": {
    "name": "python",
    "version": 3
   },
   "file_extension": ".py",
   "mimetype": "text/x-python",
   "name": "Python_Glue_Session",
   "pygments_lexer": "python3"
  }
 },
 "nbformat": 4,
 "nbformat_minor": 2
}
