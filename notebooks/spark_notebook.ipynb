{
 "cells": [
  {
   "cell_type": "code",
   "execution_count": 7,
   "metadata": {},
   "outputs": [
    {
     "name": "stdout",
     "output_type": "stream",
     "text": [
      "Welcome to the Glue Interactive Sessions Kernel\n",
      "For more information on available magic commands, please type %help in any new cell.\n",
      "\n",
      "Please view our Getting Started page to access the most up-to-date information on the Interactive Sessions kernel: https://docs.aws.amazon.com/glue/latest/dg/interactive-sessions.html\n",
      "It looks like there is a newer version of the kernel available. The latest version is 1.0.3 and you have 1.0.2 installed.\n",
      "Please run `pip install --upgrade aws-glue-sessions` to upgrade your kernel\n",
      "Setting Glue version to: 4.0\n",
      "Additional python modules to be included:\n",
      "tgedr-nihao\n",
      "Previous region: None\n",
      "Setting new region to: eu-north-1\n",
      "Region is set to: eu-north-1\n",
      "Current iam_role is None\n",
      "iam_role has been set to arn:aws:iam::041651352119:role/tgedr_it_role_for_glue_service.\n"
     ]
    }
   ],
   "source": [
    "\n",
    "%glue_version 4.0\n",
    "%additional_python_modules tgedr-nihao\n",
    "# --- nn\n",
    "# %region eu-central-1\n",
    "# %iam_role arn:aws:iam::988864172292:role/custom_role_for_glue_interactive_sessions\n",
    "# --- tgedr\n",
    "%region eu-north-1\n",
    "%iam_role arn:aws:iam::041651352119:role/tgedr_it_role_for_glue_service\n",
    "\n",
    "\n"
   ]
  },
  {
   "cell_type": "code",
   "execution_count": 10,
   "metadata": {},
   "outputs": [
    {
     "name": "stdout",
     "output_type": "stream",
     "text": [
      "The following configurations have been updated: {'enable_spark_ui': 'true', 'python_version': '3.10'}\n"
     ]
    }
   ],
   "source": [
    "%%configure\n",
    "{\n",
    "  \"enable_spark_ui\": \"true\",\n",
    "  \"python_version\": \"3.10\"\n",
    "}"
   ]
  },
  {
   "cell_type": "code",
   "execution_count": 1,
   "metadata": {},
   "outputs": [
    {
     "name": "stdout",
     "output_type": "stream",
     "text": [
      "Trying to create a Glue session for the kernel.\n",
      "Session Type: etl\n",
      "Worker Type: G.1X\n",
      "Number of Workers: 5\n",
      "Session ID: 69bf9205-17ef-4b9a-addf-9abbfd90bb25\n",
      "Applying the following default arguments:\n",
      "--glue_kernel_version 1.0.2\n",
      "--enable-glue-datacatalog true\n",
      "--enable_spark_ui true\n",
      "--python_version 3.10\n",
      "--additional-python-modules tgedr-nihao\n",
      "Waiting for session 69bf9205-17ef-4b9a-addf-9abbfd90bb25 to get into ready status...\n",
      "Session 69bf9205-17ef-4b9a-addf-9abbfd90bb25 has been created.\n",
      "<pyspark.sql.session.SparkSession object at 0x7fb035138d00>\n"
     ]
    }
   ],
   "source": [
    "spark"
   ]
  },
  {
   "cell_type": "code",
   "execution_count": 2,
   "metadata": {},
   "outputs": [
    {
     "name": "stdout",
     "output_type": "stream",
     "text": [
      "\n"
     ]
    }
   ],
   "source": [
    "import sys\n",
    "import logging\n",
    "\n",
    "from pyspark.context import SparkContext\n",
    "from pyspark.sql import DataFrame\n",
    "\n",
    "from awsglue.transforms import *\n",
    "from awsglue.utils import getResolvedOptions\n",
    "from awsglue.context import GlueContext\n",
    "from awsglue.job import Job\n",
    "\n",
    "from tgedr.nihao.processors.ticker_simple_analysis import TickerSimpleAnalysis"
   ]
  },
  {
   "cell_type": "code",
   "execution_count": 3,
   "metadata": {},
   "outputs": [
    {
     "name": "stdout",
     "output_type": "stream",
     "text": [
      "\n"
     ]
    }
   ],
   "source": [
    "logger = logging.getLogger()\n",
    "logger.setLevel(logging.INFO)\n",
    "\n",
    "sys.argv+=['--source_bucket_key', \"s3://de-landing-dev-c44cd1c4-19d5-4b81-af9c-37cb1abac051/dataengineering\"]\n",
    "sys.argv+=['--target_bucket_key', \"s3://de-bronze-dev-ae67b8d7-3e23-4c66-a101-33a096537444/dataengineering\"]\n",
    "sys.argv+=['--job_name', 'my_test_job']\n",
    "\n",
    "args = getResolvedOptions(\n",
    "    sys.argv, [\"source_bucket_key\", \"target_bucket_key\", \"job_name\"]\n",
    ")\n",
    "#args = {\"source_bucket_key\": \"s3://de-landing-dev-c44cd1c4-19d5-4b81-af9c-37cb1abac051/dataengineering\", \n",
    "#        \"target_bucket_key\": \"s3://de-bronze-dev-ae67b8d7-3e23-4c66-a101-33a096537444/dataengineering\", \n",
    "#        \"job_name\": \"tgedr_test\"}\n",
    "logger.info(f\"[in] args: {args}\")"
   ]
  },
  {
   "cell_type": "code",
   "execution_count": 4,
   "metadata": {},
   "outputs": [
    {
     "name": "stdout",
     "output_type": "stream",
     "text": [
      "\n"
     ]
    }
   ],
   "source": [
    "# get glue context\n",
    "glueContext = GlueContext(SparkContext.getOrCreate())\n",
    "\n",
    "source_bucket_key = args[\"source_bucket_key\"]\n",
    "target_bucket_key = args[\"target_bucket_key\"]\n",
    "job_name = args[\"job_name\"]"
   ]
  },
  {
   "cell_type": "code",
   "execution_count": 6,
   "metadata": {},
   "outputs": [
    {
     "name": "stdout",
     "output_type": "stream",
     "text": [
      "\n"
     ]
    }
   ],
   "source": [
    "job = Job(glueContext)\n",
    "job.init(job_name, args)"
   ]
  },
  {
   "cell_type": "code",
   "execution_count": 8,
   "metadata": {},
   "outputs": [
    {
     "name": "stdout",
     "output_type": "stream",
     "text": [
      "\n"
     ]
    }
   ],
   "source": [
    "input = glueContext.spark_session.read.parquet(source_bucket_key)\n",
    "result: DataFrame = TickerSimpleAnalysis().process(input)\n",
    "    "
   ]
  },
  {
   "cell_type": "code",
   "execution_count": 9,
   "metadata": {},
   "outputs": [
    {
     "name": "stdout",
     "output_type": "stream",
     "text": [
      "+------+-----------+------------------+---------+\n",
      "|symbol|actual_time|         adj_close|   volume|\n",
      "+------+-----------+------------------+---------+\n",
      "|   AMD| 3.220992E8|3.1458330154418945| 219600.0|\n",
      "|   AMD| 3.221856E8|           3.03125| 727200.0|\n",
      "|   AMD|  3.22272E8|3.0416669845581055| 295200.0|\n",
      "|   AMD| 3.223584E8|3.0104169845581055| 159600.0|\n",
      "|   AMD| 3.224448E8|2.9166669845581055| 130800.0|\n",
      "|   AMD|  3.22704E8|2.6666669845581055| 436800.0|\n",
      "|   AMD| 3.227904E8|2.6041669845581055| 645600.0|\n",
      "|   AMD| 3.228768E8|2.4479169845581055| 466800.0|\n",
      "|   AMD| 3.229632E8|             2.375|1129200.0|\n",
      "|   AMD| 3.230496E8|2.5416669845581055| 666000.0|\n",
      "|   AMD| 3.233088E8|2.5416669845581055| 430800.0|\n",
      "|   AMD| 3.233952E8|2.7395830154418945| 492000.0|\n",
      "|   AMD| 3.234816E8|             2.625| 283200.0|\n",
      "|   AMD|  3.23568E8|2.6354169845581055| 226800.0|\n",
      "|   AMD| 3.239136E8|2.5416669845581055| 355200.0|\n",
      "|   AMD|     3.24E8|           2.59375| 765600.0|\n",
      "|   AMD| 3.240864E8|2.6666669845581055| 134400.0|\n",
      "|   AMD| 3.241728E8|2.7395830154418945| 174000.0|\n",
      "|   AMD| 3.242592E8|2.6354169845581055| 109200.0|\n",
      "|   AMD| 3.245184E8|            2.5625| 267600.0|\n",
      "+------+-----------+------------------+---------+\n",
      "only showing top 20 rows\n"
     ]
    }
   ],
   "source": [
    "result.show()"
   ]
  },
  {
   "cell_type": "code",
   "execution_count": 10,
   "metadata": {},
   "outputs": [
    {
     "name": "stdout",
     "output_type": "stream",
     "text": [
      "\n"
     ]
    }
   ],
   "source": [
    "result.write.parquet(target_bucket_key)\n",
    "job.commit()"
   ]
  },
  {
   "cell_type": "code",
   "execution_count": null,
   "metadata": {},
   "outputs": [],
   "source": []
  },
  {
   "cell_type": "code",
   "execution_count": 2,
   "metadata": {},
   "outputs": [
    {
     "name": "stdout",
     "output_type": "stream",
     "text": [
      "\n"
     ]
    }
   ],
   "source": [
    "# parquet_file = \"s3://988864172292-gscdm-dev-eu-central-1-landing-zone/dh_cdm/events\"\n",
    "parquet_file = \"s3://de-landing-dev-c44cd1c4-19d5-4b81-af9c-37cb1abac051/dataengineering\""
   ]
  },
  {
   "cell_type": "code",
   "execution_count": 3,
   "metadata": {},
   "outputs": [
    {
     "name": "stdout",
     "output_type": "stream",
     "text": [
      "\n"
     ]
    }
   ],
   "source": [
    "df = spark.read.parquet(parquet_file)"
   ]
  },
  {
   "cell_type": "code",
   "execution_count": null,
   "metadata": {},
   "outputs": [],
   "source": []
  }
 ],
 "metadata": {
  "kernelspec": {
   "display_name": "Glue PySpark",
   "language": "python",
   "name": "glue_pyspark"
  }
 },
 "nbformat": 4,
 "nbformat_minor": 4
}
