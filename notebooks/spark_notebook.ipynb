{
 "cells": [
  {
   "cell_type": "code",
   "execution_count": 11,
   "metadata": {
    "vscode": {
     "languageId": "python"
    }
   },
   "outputs": [
    {
     "name": "stdout",
     "output_type": "stream",
     "text": [
      "Previous region: eu-central-1\n",
      "Setting new region to: eu-central-1\n",
      "Region is set to: eu-central-1\n",
      "Current iam_role is arn:aws:iam::988864172292:role/aws-reserved/sso.amazonaws.com/eu-central-1/AWSReservedSSO_ContributorAccess_60490b35c2b703fc\n",
      "iam_role has been set to arn:aws:iam::988864172292:role/custom_role_for_glue_interactive_sessions.\n",
      "Setting Glue version to: 4.0\n"
     ]
    }
   ],
   "source": [
    "# --- home\n",
    "%region eu-central-1\n",
    "%iam_role arn:aws:iam::988864172292:role/custom_role_for_glue_interactive_sessions\"\n",
    "%glue_version 4.0\n",
    "# --- nn\n",
    "# %iam_role arn:aws:iam::053975276025:role/role_for_remote_glue_development\"\n",
    "# %region eu-north-1\n"
   ]
  },
  {
   "cell_type": "code",
   "execution_count": 9,
   "metadata": {
    "vscode": {
     "languageId": "python"
    }
   },
   "outputs": [
    {
     "name": "stdout",
     "output_type": "stream",
     "text": [
      "The following configurations have been updated: {'enable_spark_ui': 'true', 'python_version': '3.10'}\n"
     ]
    }
   ],
   "source": [
    "%%configure\n",
    "{\n",
    "  \"enable_spark_ui\": \"true\",\n",
    "  \"python_version\": \"3.10\"\n",
    "}"
   ]
  },
  {
   "cell_type": "code",
   "execution_count": 1,
   "metadata": {
    "vscode": {
     "languageId": "python"
    }
   },
   "outputs": [
    {
     "name": "stdout",
     "output_type": "stream",
     "text": [
      "Trying to create a Glue session for the kernel.\n",
      "Session Type: etl\n",
      "Worker Type: G.1X\n",
      "Number of Workers: 5\n",
      "Session ID: 7c3601c5-35e9-4260-977f-bcd3cb5c7ecb\n",
      "Applying the following default arguments:\n",
      "--glue_kernel_version 1.0.2\n",
      "--enable-glue-datacatalog true\n",
      "Waiting for session 7c3601c5-35e9-4260-977f-bcd3cb5c7ecb to get into ready status...\n",
      "Session 7c3601c5-35e9-4260-977f-bcd3cb5c7ecb has been created.\n",
      "<pyspark.sql.session.SparkSession object at 0x7fc9c7b28b80>\n"
     ]
    }
   ],
   "source": [
    "spark"
   ]
  },
  {
   "cell_type": "code",
   "execution_count": 2,
   "metadata": {
    "vscode": {
     "languageId": "python"
    }
   },
   "outputs": [
    {
     "name": "stdout",
     "output_type": "stream",
     "text": [
      "\n"
     ]
    }
   ],
   "source": [
    "parquetFile = spark.read.parquet(\"s3://988864172292-gscdm-dev-eu-central-1-landing-zone/dh_cdm/events\")"
   ]
  },
  {
   "cell_type": "code",
   "execution_count": 3,
   "metadata": {
    "vscode": {
     "languageId": "python"
    }
   },
   "outputs": [
    {
     "name": "stdout",
     "output_type": "stream",
     "text": [
      "Row(timestamp_local=datetime.datetime(2022, 9, 9, 9, 27, 22), timestamp_utc=datetime.datetime(2022, 9, 9, 8, 27, 22), value=201005.0, unit=None, value_text_original='ALARM_NOVOPEN_RECOVERABLE_ERR', value_text='recoverable_err', event_type='alarm', event_subtype=None, transfer_type='app', transfer_timestamp=datetime.datetime(2022, 9, 21, 9, 0, 48), time_label=None, medication_original=None, medication=None, user_id='001aa2c8217ed841fa834cf7b4ee763eac074d8ff5dc8abe25a147e55d49141e&diasend', device_id='4399709', details=None, version_timestamp=datetime.datetime(2022, 9, 26, 0, 0), source_system='diasend')\n"
     ]
    }
   ],
   "source": [
    "parquetFile.head()"
   ]
  },
  {
   "cell_type": "code",
   "execution_count": null,
   "metadata": {
    "vscode": {
     "languageId": "python"
    }
   },
   "outputs": [],
   "source": []
  }
 ],
 "metadata": {
  "kernelspec": {
   "display_name": "Glue PySpark",
   "language": "python",
   "name": "glue_pyspark"
  },
  "language_info": {
   "codemirror_mode": {
    "name": "python",
    "version": 3
   },
   "file_extension": ".py",
   "mimetype": "text/x-python",
   "name": "Python_Glue_Session",
   "pygments_lexer": "python3"
  }
 },
 "nbformat": 4,
 "nbformat_minor": 4
}
