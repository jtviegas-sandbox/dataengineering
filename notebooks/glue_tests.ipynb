{
 "cells": [
  {
   "cell_type": "code",
   "execution_count": null,
   "metadata": {
    "vscode": {
     "languageId": "python"
    }
   },
   "outputs": [],
   "source": [
    "\n",
    "%glue_version 4.0\n",
    "%additional_python_modules tgedr-nihao\n",
    "# --- nn\n",
    "# %region eu-central-1\n",
    "# %iam_role arn:aws:iam::988864172292:role/custom_role_for_glue_interactive_sessions\n",
    "# --- tgedr\n",
    "%region eu-north-1\n",
    "%iam_role arn:aws:iam::041651352119:role/tgedr_it_role_for_glue_service\n",
    "\n",
    "\n"
   ]
  },
  {
   "cell_type": "code",
   "execution_count": null,
   "metadata": {
    "vscode": {
     "languageId": "python"
    }
   },
   "outputs": [],
   "source": [
    "%%configure\n",
    "{\n",
    "  \"enable_spark_ui\": \"true\",\n",
    "  \"python_version\": \"3.10\"\n",
    "}"
   ]
  },
  {
   "cell_type": "code",
   "execution_count": null,
   "metadata": {
    "vscode": {
     "languageId": "python"
    }
   },
   "outputs": [],
   "source": [
    "spark"
   ]
  },
  {
   "cell_type": "code",
   "execution_count": null,
   "metadata": {
    "vscode": {
     "languageId": "python"
    }
   },
   "outputs": [],
   "source": [
    "import sys\n",
    "import logging\n",
    "\n",
    "from pyspark.context import SparkContext\n",
    "from pyspark.sql import DataFrame\n",
    "\n",
    "from awsglue.transforms import *\n",
    "from awsglue.utils import getResolvedOptions\n",
    "from awsglue.context import GlueContext\n",
    "from awsglue.job import Job\n",
    "\n",
    "from tgedr.nihao.processors.ticker_simple_analysis import TickerSimpleAnalysis"
   ]
  },
  {
   "cell_type": "code",
   "execution_count": null,
   "metadata": {
    "vscode": {
     "languageId": "python"
    }
   },
   "outputs": [],
   "source": [
    "logger = logging.getLogger()\n",
    "logger.setLevel(logging.INFO)\n",
    "\n",
    "sys.argv+=['--source_bucket_key', \"s3://de-landing-dev-c44cd1c4-19d5-4b81-af9c-37cb1abac051/dataengineering\"]\n",
    "sys.argv+=['--target_bucket_key', \"s3://de-bronze-dev-ae67b8d7-3e23-4c66-a101-33a096537444/dataengineering\"]\n",
    "sys.argv+=['--job_name', 'my_test_job']\n",
    "\n",
    "args = getResolvedOptions(\n",
    "    sys.argv, [\"source_bucket_key\", \"target_bucket_key\", \"job_name\"]\n",
    ")\n",
    "#args = {\"source_bucket_key\": \"s3://de-landing-dev-c44cd1c4-19d5-4b81-af9c-37cb1abac051/dataengineering\", \n",
    "#        \"target_bucket_key\": \"s3://de-bronze-dev-ae67b8d7-3e23-4c66-a101-33a096537444/dataengineering\", \n",
    "#        \"job_name\": \"tgedr_test\"}\n",
    "logger.info(f\"[in] args: {args}\")"
   ]
  },
  {
   "cell_type": "code",
   "execution_count": null,
   "metadata": {
    "vscode": {
     "languageId": "python"
    }
   },
   "outputs": [],
   "source": [
    "# get glue context\n",
    "glueContext = GlueContext(SparkContext.getOrCreate())\n",
    "\n",
    "source_bucket_key = args[\"source_bucket_key\"]\n",
    "target_bucket_key = args[\"target_bucket_key\"]\n",
    "job_name = args[\"job_name\"]"
   ]
  },
  {
   "cell_type": "code",
   "execution_count": null,
   "metadata": {
    "vscode": {
     "languageId": "python"
    }
   },
   "outputs": [],
   "source": [
    "job = Job(glueContext)\n",
    "job.init(job_name, args)"
   ]
  },
  {
   "cell_type": "code",
   "execution_count": null,
   "metadata": {
    "vscode": {
     "languageId": "python"
    }
   },
   "outputs": [],
   "source": [
    "input = glueContext.spark_session.read.parquet(source_bucket_key)\n",
    "result: DataFrame = TickerSimpleAnalysis().process(input)\n",
    "    "
   ]
  },
  {
   "cell_type": "code",
   "execution_count": null,
   "metadata": {
    "vscode": {
     "languageId": "python"
    }
   },
   "outputs": [],
   "source": [
    "result.show()"
   ]
  },
  {
   "cell_type": "code",
   "execution_count": null,
   "metadata": {
    "vscode": {
     "languageId": "python"
    }
   },
   "outputs": [],
   "source": [
    "result.write.parquet(target_bucket_key)\n",
    "job.commit()"
   ]
  },
  {
   "cell_type": "code",
   "execution_count": null,
   "metadata": {
    "vscode": {
     "languageId": "python"
    }
   },
   "outputs": [],
   "source": []
  },
  {
   "cell_type": "code",
   "execution_count": null,
   "metadata": {
    "vscode": {
     "languageId": "python"
    }
   },
   "outputs": [],
   "source": [
    "# parquet_file = \"s3://988864172292-gscdm-dev-eu-central-1-landing-zone/dh_cdm/events\"\n",
    "parquet_file = \"s3://de-landing-dev-c44cd1c4-19d5-4b81-af9c-37cb1abac051/dataengineering\""
   ]
  },
  {
   "cell_type": "code",
   "execution_count": null,
   "metadata": {
    "vscode": {
     "languageId": "python"
    }
   },
   "outputs": [],
   "source": [
    "df = spark.read.parquet(parquet_file)"
   ]
  },
  {
   "cell_type": "code",
   "execution_count": null,
   "metadata": {
    "vscode": {
     "languageId": "python"
    }
   },
   "outputs": [],
   "source": []
  }
 ],
 "metadata": {
  "kernelspec": {
   "display_name": "Glue PySpark",
   "language": "python",
   "name": "glue_pyspark"
  },
  "language_info": {
   "codemirror_mode": {
    "name": "python",
    "version": 3
   },
   "file_extension": ".py",
   "mimetype": "text/x-python",
   "name": "Python_Glue_Session",
   "pygments_lexer": "python3"
  }
 },
 "nbformat": 4,
 "nbformat_minor": 4
}
